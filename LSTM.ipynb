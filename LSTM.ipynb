{
  "cells": [
    {
      "cell_type": "code",
      "execution_count": null,
      "metadata": {
        "colab": {
          "base_uri": "https://localhost:8080/"
        },
        "id": "xvW5rUIY-rYm",
        "outputId": "1e157219-d929-4bca-a3fc-ccd26be948e8"
      },
      "outputs": [
        {
          "output_type": "stream",
          "name": "stdout",
          "text": [
            "Mounted at /content/drive\n"
          ]
        }
      ],
      "source": [
        "from google.colab import drive\n",
        "drive.mount(\"/content/drive\")"
      ]
    },
    {
      "cell_type": "code",
      "execution_count": null,
      "metadata": {
        "colab": {
          "base_uri": "https://localhost:8080/"
        },
        "id": "Bw3X_KsL-r0W",
        "outputId": "7ff4acc6-4c11-42a9-b642-0e8e2d58818a"
      },
      "outputs": [
        {
          "output_type": "stream",
          "name": "stdout",
          "text": [
            "/content/drive/MyDrive/Colab Notebooks/NLP\n"
          ]
        }
      ],
      "source": [
        "%cd '/content/drive/MyDrive/Colab Notebooks/NLP'"
      ]
    },
    {
      "cell_type": "code",
      "execution_count": null,
      "metadata": {
        "id": "26MSIuLhaFCw",
        "colab": {
          "base_uri": "https://localhost:8080/"
        },
        "outputId": "6f7d272b-9484-4c24-9934-d7341dc5590c"
      },
      "outputs": [
        {
          "output_type": "stream",
          "name": "stdout",
          "text": [
            "Collecting tensorflow-addons\n",
            "  Downloading tensorflow_addons-0.16.1-cp37-cp37m-manylinux_2_12_x86_64.manylinux2010_x86_64.whl (1.1 MB)\n",
            "\u001b[?25l\r\u001b[K     |▎                               | 10 kB 22.9 MB/s eta 0:00:01\r\u001b[K     |▋                               | 20 kB 13.7 MB/s eta 0:00:01\r\u001b[K     |▉                               | 30 kB 9.7 MB/s eta 0:00:01\r\u001b[K     |█▏                              | 40 kB 8.6 MB/s eta 0:00:01\r\u001b[K     |█▌                              | 51 kB 6.6 MB/s eta 0:00:01\r\u001b[K     |█▊                              | 61 kB 7.8 MB/s eta 0:00:01\r\u001b[K     |██                              | 71 kB 7.6 MB/s eta 0:00:01\r\u001b[K     |██▍                             | 81 kB 8.0 MB/s eta 0:00:01\r\u001b[K     |██▋                             | 92 kB 8.8 MB/s eta 0:00:01\r\u001b[K     |███                             | 102 kB 8.4 MB/s eta 0:00:01\r\u001b[K     |███▏                            | 112 kB 8.4 MB/s eta 0:00:01\r\u001b[K     |███▌                            | 122 kB 8.4 MB/s eta 0:00:01\r\u001b[K     |███▉                            | 133 kB 8.4 MB/s eta 0:00:01\r\u001b[K     |████                            | 143 kB 8.4 MB/s eta 0:00:01\r\u001b[K     |████▍                           | 153 kB 8.4 MB/s eta 0:00:01\r\u001b[K     |████▊                           | 163 kB 8.4 MB/s eta 0:00:01\r\u001b[K     |█████                           | 174 kB 8.4 MB/s eta 0:00:01\r\u001b[K     |█████▎                          | 184 kB 8.4 MB/s eta 0:00:01\r\u001b[K     |█████▌                          | 194 kB 8.4 MB/s eta 0:00:01\r\u001b[K     |█████▉                          | 204 kB 8.4 MB/s eta 0:00:01\r\u001b[K     |██████▏                         | 215 kB 8.4 MB/s eta 0:00:01\r\u001b[K     |██████▍                         | 225 kB 8.4 MB/s eta 0:00:01\r\u001b[K     |██████▊                         | 235 kB 8.4 MB/s eta 0:00:01\r\u001b[K     |███████                         | 245 kB 8.4 MB/s eta 0:00:01\r\u001b[K     |███████▎                        | 256 kB 8.4 MB/s eta 0:00:01\r\u001b[K     |███████▋                        | 266 kB 8.4 MB/s eta 0:00:01\r\u001b[K     |███████▉                        | 276 kB 8.4 MB/s eta 0:00:01\r\u001b[K     |████████▏                       | 286 kB 8.4 MB/s eta 0:00:01\r\u001b[K     |████████▌                       | 296 kB 8.4 MB/s eta 0:00:01\r\u001b[K     |████████▊                       | 307 kB 8.4 MB/s eta 0:00:01\r\u001b[K     |█████████                       | 317 kB 8.4 MB/s eta 0:00:01\r\u001b[K     |█████████▍                      | 327 kB 8.4 MB/s eta 0:00:01\r\u001b[K     |█████████▋                      | 337 kB 8.4 MB/s eta 0:00:01\r\u001b[K     |██████████                      | 348 kB 8.4 MB/s eta 0:00:01\r\u001b[K     |██████████▏                     | 358 kB 8.4 MB/s eta 0:00:01\r\u001b[K     |██████████▌                     | 368 kB 8.4 MB/s eta 0:00:01\r\u001b[K     |██████████▉                     | 378 kB 8.4 MB/s eta 0:00:01\r\u001b[K     |███████████                     | 389 kB 8.4 MB/s eta 0:00:01\r\u001b[K     |███████████▍                    | 399 kB 8.4 MB/s eta 0:00:01\r\u001b[K     |███████████▊                    | 409 kB 8.4 MB/s eta 0:00:01\r\u001b[K     |████████████                    | 419 kB 8.4 MB/s eta 0:00:01\r\u001b[K     |████████████▎                   | 430 kB 8.4 MB/s eta 0:00:01\r\u001b[K     |████████████▌                   | 440 kB 8.4 MB/s eta 0:00:01\r\u001b[K     |████████████▉                   | 450 kB 8.4 MB/s eta 0:00:01\r\u001b[K     |█████████████▏                  | 460 kB 8.4 MB/s eta 0:00:01\r\u001b[K     |█████████████▍                  | 471 kB 8.4 MB/s eta 0:00:01\r\u001b[K     |█████████████▊                  | 481 kB 8.4 MB/s eta 0:00:01\r\u001b[K     |██████████████                  | 491 kB 8.4 MB/s eta 0:00:01\r\u001b[K     |██████████████▎                 | 501 kB 8.4 MB/s eta 0:00:01\r\u001b[K     |██████████████▋                 | 512 kB 8.4 MB/s eta 0:00:01\r\u001b[K     |██████████████▉                 | 522 kB 8.4 MB/s eta 0:00:01\r\u001b[K     |███████████████▏                | 532 kB 8.4 MB/s eta 0:00:01\r\u001b[K     |███████████████▌                | 542 kB 8.4 MB/s eta 0:00:01\r\u001b[K     |███████████████▊                | 552 kB 8.4 MB/s eta 0:00:01\r\u001b[K     |████████████████                | 563 kB 8.4 MB/s eta 0:00:01\r\u001b[K     |████████████████▍               | 573 kB 8.4 MB/s eta 0:00:01\r\u001b[K     |████████████████▋               | 583 kB 8.4 MB/s eta 0:00:01\r\u001b[K     |█████████████████               | 593 kB 8.4 MB/s eta 0:00:01\r\u001b[K     |█████████████████▏              | 604 kB 8.4 MB/s eta 0:00:01\r\u001b[K     |█████████████████▌              | 614 kB 8.4 MB/s eta 0:00:01\r\u001b[K     |█████████████████▉              | 624 kB 8.4 MB/s eta 0:00:01\r\u001b[K     |██████████████████              | 634 kB 8.4 MB/s eta 0:00:01\r\u001b[K     |██████████████████▍             | 645 kB 8.4 MB/s eta 0:00:01\r\u001b[K     |██████████████████▊             | 655 kB 8.4 MB/s eta 0:00:01\r\u001b[K     |███████████████████             | 665 kB 8.4 MB/s eta 0:00:01\r\u001b[K     |███████████████████▎            | 675 kB 8.4 MB/s eta 0:00:01\r\u001b[K     |███████████████████▌            | 686 kB 8.4 MB/s eta 0:00:01\r\u001b[K     |███████████████████▉            | 696 kB 8.4 MB/s eta 0:00:01\r\u001b[K     |████████████████████▏           | 706 kB 8.4 MB/s eta 0:00:01\r\u001b[K     |████████████████████▍           | 716 kB 8.4 MB/s eta 0:00:01\r\u001b[K     |████████████████████▊           | 727 kB 8.4 MB/s eta 0:00:01\r\u001b[K     |█████████████████████           | 737 kB 8.4 MB/s eta 0:00:01\r\u001b[K     |█████████████████████▎          | 747 kB 8.4 MB/s eta 0:00:01\r\u001b[K     |█████████████████████▋          | 757 kB 8.4 MB/s eta 0:00:01\r\u001b[K     |█████████████████████▉          | 768 kB 8.4 MB/s eta 0:00:01\r\u001b[K     |██████████████████████▏         | 778 kB 8.4 MB/s eta 0:00:01\r\u001b[K     |██████████████████████▌         | 788 kB 8.4 MB/s eta 0:00:01\r\u001b[K     |██████████████████████▊         | 798 kB 8.4 MB/s eta 0:00:01\r\u001b[K     |███████████████████████         | 808 kB 8.4 MB/s eta 0:00:01\r\u001b[K     |███████████████████████▍        | 819 kB 8.4 MB/s eta 0:00:01\r\u001b[K     |███████████████████████▋        | 829 kB 8.4 MB/s eta 0:00:01\r\u001b[K     |████████████████████████        | 839 kB 8.4 MB/s eta 0:00:01\r\u001b[K     |████████████████████████▏       | 849 kB 8.4 MB/s eta 0:00:01\r\u001b[K     |████████████████████████▌       | 860 kB 8.4 MB/s eta 0:00:01\r\u001b[K     |████████████████████████▉       | 870 kB 8.4 MB/s eta 0:00:01\r\u001b[K     |█████████████████████████       | 880 kB 8.4 MB/s eta 0:00:01\r\u001b[K     |█████████████████████████▍      | 890 kB 8.4 MB/s eta 0:00:01\r\u001b[K     |█████████████████████████▊      | 901 kB 8.4 MB/s eta 0:00:01\r\u001b[K     |██████████████████████████      | 911 kB 8.4 MB/s eta 0:00:01\r\u001b[K     |██████████████████████████▎     | 921 kB 8.4 MB/s eta 0:00:01\r\u001b[K     |██████████████████████████▌     | 931 kB 8.4 MB/s eta 0:00:01\r\u001b[K     |██████████████████████████▉     | 942 kB 8.4 MB/s eta 0:00:01\r\u001b[K     |███████████████████████████▏    | 952 kB 8.4 MB/s eta 0:00:01\r\u001b[K     |███████████████████████████▍    | 962 kB 8.4 MB/s eta 0:00:01\r\u001b[K     |███████████████████████████▊    | 972 kB 8.4 MB/s eta 0:00:01\r\u001b[K     |████████████████████████████    | 983 kB 8.4 MB/s eta 0:00:01\r\u001b[K     |████████████████████████████▎   | 993 kB 8.4 MB/s eta 0:00:01\r\u001b[K     |████████████████████████████▋   | 1.0 MB 8.4 MB/s eta 0:00:01\r\u001b[K     |████████████████████████████▉   | 1.0 MB 8.4 MB/s eta 0:00:01\r\u001b[K     |█████████████████████████████▏  | 1.0 MB 8.4 MB/s eta 0:00:01\r\u001b[K     |█████████████████████████████▌  | 1.0 MB 8.4 MB/s eta 0:00:01\r\u001b[K     |█████████████████████████████▊  | 1.0 MB 8.4 MB/s eta 0:00:01\r\u001b[K     |██████████████████████████████  | 1.1 MB 8.4 MB/s eta 0:00:01\r\u001b[K     |██████████████████████████████▍ | 1.1 MB 8.4 MB/s eta 0:00:01\r\u001b[K     |██████████████████████████████▋ | 1.1 MB 8.4 MB/s eta 0:00:01\r\u001b[K     |███████████████████████████████ | 1.1 MB 8.4 MB/s eta 0:00:01\r\u001b[K     |███████████████████████████████▏| 1.1 MB 8.4 MB/s eta 0:00:01\r\u001b[K     |███████████████████████████████▌| 1.1 MB 8.4 MB/s eta 0:00:01\r\u001b[K     |███████████████████████████████▉| 1.1 MB 8.4 MB/s eta 0:00:01\r\u001b[K     |████████████████████████████████| 1.1 MB 8.4 MB/s \n",
            "\u001b[?25hRequirement already satisfied: typeguard>=2.7 in /usr/local/lib/python3.7/dist-packages (from tensorflow-addons) (2.7.1)\n",
            "Installing collected packages: tensorflow-addons\n",
            "Successfully installed tensorflow-addons-0.16.1\n"
          ]
        }
      ],
      "source": [
        "!pip install tensorflow-addons"
      ]
    },
    {
      "cell_type": "code",
      "execution_count": null,
      "metadata": {
        "id": "p42TWDrN-oTk"
      },
      "outputs": [],
      "source": [
        "import sys\n",
        "import os\n",
        "import re\n",
        "import csv\n",
        "import codecs\n",
        "\n",
        "import numpy as np\n",
        "import pandas as pd\n",
        "import seaborn as sns\n",
        "import tensorflow as tf\n",
        "import matplotlib.pyplot as plt\n",
        "%matplotlib inline\n",
        "\n",
        "from keras.preprocessing.text import Tokenizer\n",
        "from keras.preprocessing.sequence import pad_sequences\n",
        "import keras.layers #import Dense, Input, LSTM, Embedding, Dropout, Activation\n",
        "from keras.layers import Bidirectional, GlobalMaxPool1D\n",
        "from keras.models import Model\n",
        "from keras import initializers, regularizers, constraints, optimizers, layers\n",
        "\n",
        "from sklearn.metrics import fbeta_score\n",
        "\n",
        "from keras.metrics import Precision, AUC, Recall\n",
        "from tensorflow_addons.metrics import F1Score"
      ]
    },
    {
      "cell_type": "markdown",
      "metadata": {
        "id": "8ef451ir_tnG"
      },
      "source": [
        "Import data"
      ]
    },
    {
      "cell_type": "code",
      "execution_count": null,
      "metadata": {
        "id": "1LIrGkPh_s_p"
      },
      "outputs": [],
      "source": [
        "train = pd.read_csv('data/train.csv')\n",
        "test = pd.read_csv('data/test.csv')\n",
        "test_y = pd.read_csv(\"data/test_labels.csv\")"
      ]
    },
    {
      "cell_type": "markdown",
      "metadata": {
        "id": "EAyclnJh_72Y"
      },
      "source": [
        "Data visualisation"
      ]
    },
    {
      "cell_type": "code",
      "execution_count": null,
      "metadata": {
        "colab": {
          "base_uri": "https://localhost:8080/",
          "height": 206
        },
        "id": "EUAYcMKL_yfi",
        "outputId": "d947c940-9c07-4c53-9d64-bd82caf7baf3"
      },
      "outputs": [
        {
          "output_type": "execute_result",
          "data": {
            "text/html": [
              "\n",
              "  <div id=\"df-b216017e-19d6-4c0f-8e3f-3bc2d1a1d333\">\n",
              "    <div class=\"colab-df-container\">\n",
              "      <div>\n",
              "<style scoped>\n",
              "    .dataframe tbody tr th:only-of-type {\n",
              "        vertical-align: middle;\n",
              "    }\n",
              "\n",
              "    .dataframe tbody tr th {\n",
              "        vertical-align: top;\n",
              "    }\n",
              "\n",
              "    .dataframe thead th {\n",
              "        text-align: right;\n",
              "    }\n",
              "</style>\n",
              "<table border=\"1\" class=\"dataframe\">\n",
              "  <thead>\n",
              "    <tr style=\"text-align: right;\">\n",
              "      <th></th>\n",
              "      <th>id</th>\n",
              "      <th>comment_text</th>\n",
              "      <th>toxic</th>\n",
              "      <th>severe_toxic</th>\n",
              "      <th>obscene</th>\n",
              "      <th>threat</th>\n",
              "      <th>insult</th>\n",
              "      <th>identity_hate</th>\n",
              "    </tr>\n",
              "  </thead>\n",
              "  <tbody>\n",
              "    <tr>\n",
              "      <th>0</th>\n",
              "      <td>0000997932d777bf</td>\n",
              "      <td>Explanation\\nWhy the edits made under my usern...</td>\n",
              "      <td>0</td>\n",
              "      <td>0</td>\n",
              "      <td>0</td>\n",
              "      <td>0</td>\n",
              "      <td>0</td>\n",
              "      <td>0</td>\n",
              "    </tr>\n",
              "    <tr>\n",
              "      <th>1</th>\n",
              "      <td>000103f0d9cfb60f</td>\n",
              "      <td>D'aww! He matches this background colour I'm s...</td>\n",
              "      <td>0</td>\n",
              "      <td>0</td>\n",
              "      <td>0</td>\n",
              "      <td>0</td>\n",
              "      <td>0</td>\n",
              "      <td>0</td>\n",
              "    </tr>\n",
              "    <tr>\n",
              "      <th>2</th>\n",
              "      <td>000113f07ec002fd</td>\n",
              "      <td>Hey man, I'm really not trying to edit war. It...</td>\n",
              "      <td>0</td>\n",
              "      <td>0</td>\n",
              "      <td>0</td>\n",
              "      <td>0</td>\n",
              "      <td>0</td>\n",
              "      <td>0</td>\n",
              "    </tr>\n",
              "    <tr>\n",
              "      <th>3</th>\n",
              "      <td>0001b41b1c6bb37e</td>\n",
              "      <td>\"\\nMore\\nI can't make any real suggestions on ...</td>\n",
              "      <td>0</td>\n",
              "      <td>0</td>\n",
              "      <td>0</td>\n",
              "      <td>0</td>\n",
              "      <td>0</td>\n",
              "      <td>0</td>\n",
              "    </tr>\n",
              "    <tr>\n",
              "      <th>4</th>\n",
              "      <td>0001d958c54c6e35</td>\n",
              "      <td>You, sir, are my hero. Any chance you remember...</td>\n",
              "      <td>0</td>\n",
              "      <td>0</td>\n",
              "      <td>0</td>\n",
              "      <td>0</td>\n",
              "      <td>0</td>\n",
              "      <td>0</td>\n",
              "    </tr>\n",
              "  </tbody>\n",
              "</table>\n",
              "</div>\n",
              "      <button class=\"colab-df-convert\" onclick=\"convertToInteractive('df-b216017e-19d6-4c0f-8e3f-3bc2d1a1d333')\"\n",
              "              title=\"Convert this dataframe to an interactive table.\"\n",
              "              style=\"display:none;\">\n",
              "        \n",
              "  <svg xmlns=\"http://www.w3.org/2000/svg\" height=\"24px\"viewBox=\"0 0 24 24\"\n",
              "       width=\"24px\">\n",
              "    <path d=\"M0 0h24v24H0V0z\" fill=\"none\"/>\n",
              "    <path d=\"M18.56 5.44l.94 2.06.94-2.06 2.06-.94-2.06-.94-.94-2.06-.94 2.06-2.06.94zm-11 1L8.5 8.5l.94-2.06 2.06-.94-2.06-.94L8.5 2.5l-.94 2.06-2.06.94zm10 10l.94 2.06.94-2.06 2.06-.94-2.06-.94-.94-2.06-.94 2.06-2.06.94z\"/><path d=\"M17.41 7.96l-1.37-1.37c-.4-.4-.92-.59-1.43-.59-.52 0-1.04.2-1.43.59L10.3 9.45l-7.72 7.72c-.78.78-.78 2.05 0 2.83L4 21.41c.39.39.9.59 1.41.59.51 0 1.02-.2 1.41-.59l7.78-7.78 2.81-2.81c.8-.78.8-2.07 0-2.86zM5.41 20L4 18.59l7.72-7.72 1.47 1.35L5.41 20z\"/>\n",
              "  </svg>\n",
              "      </button>\n",
              "      \n",
              "  <style>\n",
              "    .colab-df-container {\n",
              "      display:flex;\n",
              "      flex-wrap:wrap;\n",
              "      gap: 12px;\n",
              "    }\n",
              "\n",
              "    .colab-df-convert {\n",
              "      background-color: #E8F0FE;\n",
              "      border: none;\n",
              "      border-radius: 50%;\n",
              "      cursor: pointer;\n",
              "      display: none;\n",
              "      fill: #1967D2;\n",
              "      height: 32px;\n",
              "      padding: 0 0 0 0;\n",
              "      width: 32px;\n",
              "    }\n",
              "\n",
              "    .colab-df-convert:hover {\n",
              "      background-color: #E2EBFA;\n",
              "      box-shadow: 0px 1px 2px rgba(60, 64, 67, 0.3), 0px 1px 3px 1px rgba(60, 64, 67, 0.15);\n",
              "      fill: #174EA6;\n",
              "    }\n",
              "\n",
              "    [theme=dark] .colab-df-convert {\n",
              "      background-color: #3B4455;\n",
              "      fill: #D2E3FC;\n",
              "    }\n",
              "\n",
              "    [theme=dark] .colab-df-convert:hover {\n",
              "      background-color: #434B5C;\n",
              "      box-shadow: 0px 1px 3px 1px rgba(0, 0, 0, 0.15);\n",
              "      filter: drop-shadow(0px 1px 2px rgba(0, 0, 0, 0.3));\n",
              "      fill: #FFFFFF;\n",
              "    }\n",
              "  </style>\n",
              "\n",
              "      <script>\n",
              "        const buttonEl =\n",
              "          document.querySelector('#df-b216017e-19d6-4c0f-8e3f-3bc2d1a1d333 button.colab-df-convert');\n",
              "        buttonEl.style.display =\n",
              "          google.colab.kernel.accessAllowed ? 'block' : 'none';\n",
              "\n",
              "        async function convertToInteractive(key) {\n",
              "          const element = document.querySelector('#df-b216017e-19d6-4c0f-8e3f-3bc2d1a1d333');\n",
              "          const dataTable =\n",
              "            await google.colab.kernel.invokeFunction('convertToInteractive',\n",
              "                                                     [key], {});\n",
              "          if (!dataTable) return;\n",
              "\n",
              "          const docLinkHtml = 'Like what you see? Visit the ' +\n",
              "            '<a target=\"_blank\" href=https://colab.research.google.com/notebooks/data_table.ipynb>data table notebook</a>'\n",
              "            + ' to learn more about interactive tables.';\n",
              "          element.innerHTML = '';\n",
              "          dataTable['output_type'] = 'display_data';\n",
              "          await google.colab.output.renderOutput(dataTable, element);\n",
              "          const docLink = document.createElement('div');\n",
              "          docLink.innerHTML = docLinkHtml;\n",
              "          element.appendChild(docLink);\n",
              "        }\n",
              "      </script>\n",
              "    </div>\n",
              "  </div>\n",
              "  "
            ],
            "text/plain": [
              "                 id  ... identity_hate\n",
              "0  0000997932d777bf  ...             0\n",
              "1  000103f0d9cfb60f  ...             0\n",
              "2  000113f07ec002fd  ...             0\n",
              "3  0001b41b1c6bb37e  ...             0\n",
              "4  0001d958c54c6e35  ...             0\n",
              "\n",
              "[5 rows x 8 columns]"
            ]
          },
          "metadata": {},
          "execution_count": 8
        }
      ],
      "source": [
        "train.head()"
      ]
    },
    {
      "cell_type": "code",
      "execution_count": null,
      "metadata": {
        "colab": {
          "base_uri": "https://localhost:8080/",
          "height": 300
        },
        "id": "trOZJaBzABUP",
        "outputId": "21ea9084-db7c-4eb9-c3b5-bfe70c301796"
      },
      "outputs": [
        {
          "output_type": "execute_result",
          "data": {
            "text/html": [
              "\n",
              "  <div id=\"df-78e8b82e-be74-4d99-bdc4-cbd8e1af9451\">\n",
              "    <div class=\"colab-df-container\">\n",
              "      <div>\n",
              "<style scoped>\n",
              "    .dataframe tbody tr th:only-of-type {\n",
              "        vertical-align: middle;\n",
              "    }\n",
              "\n",
              "    .dataframe tbody tr th {\n",
              "        vertical-align: top;\n",
              "    }\n",
              "\n",
              "    .dataframe thead th {\n",
              "        text-align: right;\n",
              "    }\n",
              "</style>\n",
              "<table border=\"1\" class=\"dataframe\">\n",
              "  <thead>\n",
              "    <tr style=\"text-align: right;\">\n",
              "      <th></th>\n",
              "      <th>toxic</th>\n",
              "      <th>severe_toxic</th>\n",
              "      <th>obscene</th>\n",
              "      <th>threat</th>\n",
              "      <th>insult</th>\n",
              "      <th>identity_hate</th>\n",
              "    </tr>\n",
              "  </thead>\n",
              "  <tbody>\n",
              "    <tr>\n",
              "      <th>count</th>\n",
              "      <td>159571.000000</td>\n",
              "      <td>159571.000000</td>\n",
              "      <td>159571.000000</td>\n",
              "      <td>159571.000000</td>\n",
              "      <td>159571.000000</td>\n",
              "      <td>159571.000000</td>\n",
              "    </tr>\n",
              "    <tr>\n",
              "      <th>mean</th>\n",
              "      <td>0.095844</td>\n",
              "      <td>0.009996</td>\n",
              "      <td>0.052948</td>\n",
              "      <td>0.002996</td>\n",
              "      <td>0.049364</td>\n",
              "      <td>0.008805</td>\n",
              "    </tr>\n",
              "    <tr>\n",
              "      <th>std</th>\n",
              "      <td>0.294379</td>\n",
              "      <td>0.099477</td>\n",
              "      <td>0.223931</td>\n",
              "      <td>0.054650</td>\n",
              "      <td>0.216627</td>\n",
              "      <td>0.093420</td>\n",
              "    </tr>\n",
              "    <tr>\n",
              "      <th>min</th>\n",
              "      <td>0.000000</td>\n",
              "      <td>0.000000</td>\n",
              "      <td>0.000000</td>\n",
              "      <td>0.000000</td>\n",
              "      <td>0.000000</td>\n",
              "      <td>0.000000</td>\n",
              "    </tr>\n",
              "    <tr>\n",
              "      <th>25%</th>\n",
              "      <td>0.000000</td>\n",
              "      <td>0.000000</td>\n",
              "      <td>0.000000</td>\n",
              "      <td>0.000000</td>\n",
              "      <td>0.000000</td>\n",
              "      <td>0.000000</td>\n",
              "    </tr>\n",
              "    <tr>\n",
              "      <th>50%</th>\n",
              "      <td>0.000000</td>\n",
              "      <td>0.000000</td>\n",
              "      <td>0.000000</td>\n",
              "      <td>0.000000</td>\n",
              "      <td>0.000000</td>\n",
              "      <td>0.000000</td>\n",
              "    </tr>\n",
              "    <tr>\n",
              "      <th>75%</th>\n",
              "      <td>0.000000</td>\n",
              "      <td>0.000000</td>\n",
              "      <td>0.000000</td>\n",
              "      <td>0.000000</td>\n",
              "      <td>0.000000</td>\n",
              "      <td>0.000000</td>\n",
              "    </tr>\n",
              "    <tr>\n",
              "      <th>max</th>\n",
              "      <td>1.000000</td>\n",
              "      <td>1.000000</td>\n",
              "      <td>1.000000</td>\n",
              "      <td>1.000000</td>\n",
              "      <td>1.000000</td>\n",
              "      <td>1.000000</td>\n",
              "    </tr>\n",
              "  </tbody>\n",
              "</table>\n",
              "</div>\n",
              "      <button class=\"colab-df-convert\" onclick=\"convertToInteractive('df-78e8b82e-be74-4d99-bdc4-cbd8e1af9451')\"\n",
              "              title=\"Convert this dataframe to an interactive table.\"\n",
              "              style=\"display:none;\">\n",
              "        \n",
              "  <svg xmlns=\"http://www.w3.org/2000/svg\" height=\"24px\"viewBox=\"0 0 24 24\"\n",
              "       width=\"24px\">\n",
              "    <path d=\"M0 0h24v24H0V0z\" fill=\"none\"/>\n",
              "    <path d=\"M18.56 5.44l.94 2.06.94-2.06 2.06-.94-2.06-.94-.94-2.06-.94 2.06-2.06.94zm-11 1L8.5 8.5l.94-2.06 2.06-.94-2.06-.94L8.5 2.5l-.94 2.06-2.06.94zm10 10l.94 2.06.94-2.06 2.06-.94-2.06-.94-.94-2.06-.94 2.06-2.06.94z\"/><path d=\"M17.41 7.96l-1.37-1.37c-.4-.4-.92-.59-1.43-.59-.52 0-1.04.2-1.43.59L10.3 9.45l-7.72 7.72c-.78.78-.78 2.05 0 2.83L4 21.41c.39.39.9.59 1.41.59.51 0 1.02-.2 1.41-.59l7.78-7.78 2.81-2.81c.8-.78.8-2.07 0-2.86zM5.41 20L4 18.59l7.72-7.72 1.47 1.35L5.41 20z\"/>\n",
              "  </svg>\n",
              "      </button>\n",
              "      \n",
              "  <style>\n",
              "    .colab-df-container {\n",
              "      display:flex;\n",
              "      flex-wrap:wrap;\n",
              "      gap: 12px;\n",
              "    }\n",
              "\n",
              "    .colab-df-convert {\n",
              "      background-color: #E8F0FE;\n",
              "      border: none;\n",
              "      border-radius: 50%;\n",
              "      cursor: pointer;\n",
              "      display: none;\n",
              "      fill: #1967D2;\n",
              "      height: 32px;\n",
              "      padding: 0 0 0 0;\n",
              "      width: 32px;\n",
              "    }\n",
              "\n",
              "    .colab-df-convert:hover {\n",
              "      background-color: #E2EBFA;\n",
              "      box-shadow: 0px 1px 2px rgba(60, 64, 67, 0.3), 0px 1px 3px 1px rgba(60, 64, 67, 0.15);\n",
              "      fill: #174EA6;\n",
              "    }\n",
              "\n",
              "    [theme=dark] .colab-df-convert {\n",
              "      background-color: #3B4455;\n",
              "      fill: #D2E3FC;\n",
              "    }\n",
              "\n",
              "    [theme=dark] .colab-df-convert:hover {\n",
              "      background-color: #434B5C;\n",
              "      box-shadow: 0px 1px 3px 1px rgba(0, 0, 0, 0.15);\n",
              "      filter: drop-shadow(0px 1px 2px rgba(0, 0, 0, 0.3));\n",
              "      fill: #FFFFFF;\n",
              "    }\n",
              "  </style>\n",
              "\n",
              "      <script>\n",
              "        const buttonEl =\n",
              "          document.querySelector('#df-78e8b82e-be74-4d99-bdc4-cbd8e1af9451 button.colab-df-convert');\n",
              "        buttonEl.style.display =\n",
              "          google.colab.kernel.accessAllowed ? 'block' : 'none';\n",
              "\n",
              "        async function convertToInteractive(key) {\n",
              "          const element = document.querySelector('#df-78e8b82e-be74-4d99-bdc4-cbd8e1af9451');\n",
              "          const dataTable =\n",
              "            await google.colab.kernel.invokeFunction('convertToInteractive',\n",
              "                                                     [key], {});\n",
              "          if (!dataTable) return;\n",
              "\n",
              "          const docLinkHtml = 'Like what you see? Visit the ' +\n",
              "            '<a target=\"_blank\" href=https://colab.research.google.com/notebooks/data_table.ipynb>data table notebook</a>'\n",
              "            + ' to learn more about interactive tables.';\n",
              "          element.innerHTML = '';\n",
              "          dataTable['output_type'] = 'display_data';\n",
              "          await google.colab.output.renderOutput(dataTable, element);\n",
              "          const docLink = document.createElement('div');\n",
              "          docLink.innerHTML = docLinkHtml;\n",
              "          element.appendChild(docLink);\n",
              "        }\n",
              "      </script>\n",
              "    </div>\n",
              "  </div>\n",
              "  "
            ],
            "text/plain": [
              "               toxic   severe_toxic  ...         insult  identity_hate\n",
              "count  159571.000000  159571.000000  ...  159571.000000  159571.000000\n",
              "mean        0.095844       0.009996  ...       0.049364       0.008805\n",
              "std         0.294379       0.099477  ...       0.216627       0.093420\n",
              "min         0.000000       0.000000  ...       0.000000       0.000000\n",
              "25%         0.000000       0.000000  ...       0.000000       0.000000\n",
              "50%         0.000000       0.000000  ...       0.000000       0.000000\n",
              "75%         0.000000       0.000000  ...       0.000000       0.000000\n",
              "max         1.000000       1.000000  ...       1.000000       1.000000\n",
              "\n",
              "[8 rows x 6 columns]"
            ]
          },
          "metadata": {},
          "execution_count": 9
        }
      ],
      "source": [
        "train.describe()"
      ]
    },
    {
      "cell_type": "code",
      "execution_count": null,
      "metadata": {
        "colab": {
          "base_uri": "https://localhost:8080/",
          "height": 206
        },
        "id": "G0FjrACEAD_B",
        "outputId": "3d6c3130-ac6c-4bcc-fc74-a0eb2f442a66"
      },
      "outputs": [
        {
          "output_type": "execute_result",
          "data": {
            "text/html": [
              "\n",
              "  <div id=\"df-f267465e-3a29-4530-b30d-3c139755d5bd\">\n",
              "    <div class=\"colab-df-container\">\n",
              "      <div>\n",
              "<style scoped>\n",
              "    .dataframe tbody tr th:only-of-type {\n",
              "        vertical-align: middle;\n",
              "    }\n",
              "\n",
              "    .dataframe tbody tr th {\n",
              "        vertical-align: top;\n",
              "    }\n",
              "\n",
              "    .dataframe thead th {\n",
              "        text-align: right;\n",
              "    }\n",
              "</style>\n",
              "<table border=\"1\" class=\"dataframe\">\n",
              "  <thead>\n",
              "    <tr style=\"text-align: right;\">\n",
              "      <th></th>\n",
              "      <th>id</th>\n",
              "      <th>comment_text</th>\n",
              "    </tr>\n",
              "  </thead>\n",
              "  <tbody>\n",
              "    <tr>\n",
              "      <th>0</th>\n",
              "      <td>00001cee341fdb12</td>\n",
              "      <td>Yo bitch Ja Rule is more succesful then you'll...</td>\n",
              "    </tr>\n",
              "    <tr>\n",
              "      <th>1</th>\n",
              "      <td>0000247867823ef7</td>\n",
              "      <td>== From RfC == \\n\\n The title is fine as it is...</td>\n",
              "    </tr>\n",
              "    <tr>\n",
              "      <th>2</th>\n",
              "      <td>00013b17ad220c46</td>\n",
              "      <td>\" \\n\\n == Sources == \\n\\n * Zawe Ashton on Lap...</td>\n",
              "    </tr>\n",
              "    <tr>\n",
              "      <th>3</th>\n",
              "      <td>00017563c3f7919a</td>\n",
              "      <td>:If you have a look back at the source, the in...</td>\n",
              "    </tr>\n",
              "    <tr>\n",
              "      <th>4</th>\n",
              "      <td>00017695ad8997eb</td>\n",
              "      <td>I don't anonymously edit articles at all.</td>\n",
              "    </tr>\n",
              "  </tbody>\n",
              "</table>\n",
              "</div>\n",
              "      <button class=\"colab-df-convert\" onclick=\"convertToInteractive('df-f267465e-3a29-4530-b30d-3c139755d5bd')\"\n",
              "              title=\"Convert this dataframe to an interactive table.\"\n",
              "              style=\"display:none;\">\n",
              "        \n",
              "  <svg xmlns=\"http://www.w3.org/2000/svg\" height=\"24px\"viewBox=\"0 0 24 24\"\n",
              "       width=\"24px\">\n",
              "    <path d=\"M0 0h24v24H0V0z\" fill=\"none\"/>\n",
              "    <path d=\"M18.56 5.44l.94 2.06.94-2.06 2.06-.94-2.06-.94-.94-2.06-.94 2.06-2.06.94zm-11 1L8.5 8.5l.94-2.06 2.06-.94-2.06-.94L8.5 2.5l-.94 2.06-2.06.94zm10 10l.94 2.06.94-2.06 2.06-.94-2.06-.94-.94-2.06-.94 2.06-2.06.94z\"/><path d=\"M17.41 7.96l-1.37-1.37c-.4-.4-.92-.59-1.43-.59-.52 0-1.04.2-1.43.59L10.3 9.45l-7.72 7.72c-.78.78-.78 2.05 0 2.83L4 21.41c.39.39.9.59 1.41.59.51 0 1.02-.2 1.41-.59l7.78-7.78 2.81-2.81c.8-.78.8-2.07 0-2.86zM5.41 20L4 18.59l7.72-7.72 1.47 1.35L5.41 20z\"/>\n",
              "  </svg>\n",
              "      </button>\n",
              "      \n",
              "  <style>\n",
              "    .colab-df-container {\n",
              "      display:flex;\n",
              "      flex-wrap:wrap;\n",
              "      gap: 12px;\n",
              "    }\n",
              "\n",
              "    .colab-df-convert {\n",
              "      background-color: #E8F0FE;\n",
              "      border: none;\n",
              "      border-radius: 50%;\n",
              "      cursor: pointer;\n",
              "      display: none;\n",
              "      fill: #1967D2;\n",
              "      height: 32px;\n",
              "      padding: 0 0 0 0;\n",
              "      width: 32px;\n",
              "    }\n",
              "\n",
              "    .colab-df-convert:hover {\n",
              "      background-color: #E2EBFA;\n",
              "      box-shadow: 0px 1px 2px rgba(60, 64, 67, 0.3), 0px 1px 3px 1px rgba(60, 64, 67, 0.15);\n",
              "      fill: #174EA6;\n",
              "    }\n",
              "\n",
              "    [theme=dark] .colab-df-convert {\n",
              "      background-color: #3B4455;\n",
              "      fill: #D2E3FC;\n",
              "    }\n",
              "\n",
              "    [theme=dark] .colab-df-convert:hover {\n",
              "      background-color: #434B5C;\n",
              "      box-shadow: 0px 1px 3px 1px rgba(0, 0, 0, 0.15);\n",
              "      filter: drop-shadow(0px 1px 2px rgba(0, 0, 0, 0.3));\n",
              "      fill: #FFFFFF;\n",
              "    }\n",
              "  </style>\n",
              "\n",
              "      <script>\n",
              "        const buttonEl =\n",
              "          document.querySelector('#df-f267465e-3a29-4530-b30d-3c139755d5bd button.colab-df-convert');\n",
              "        buttonEl.style.display =\n",
              "          google.colab.kernel.accessAllowed ? 'block' : 'none';\n",
              "\n",
              "        async function convertToInteractive(key) {\n",
              "          const element = document.querySelector('#df-f267465e-3a29-4530-b30d-3c139755d5bd');\n",
              "          const dataTable =\n",
              "            await google.colab.kernel.invokeFunction('convertToInteractive',\n",
              "                                                     [key], {});\n",
              "          if (!dataTable) return;\n",
              "\n",
              "          const docLinkHtml = 'Like what you see? Visit the ' +\n",
              "            '<a target=\"_blank\" href=https://colab.research.google.com/notebooks/data_table.ipynb>data table notebook</a>'\n",
              "            + ' to learn more about interactive tables.';\n",
              "          element.innerHTML = '';\n",
              "          dataTable['output_type'] = 'display_data';\n",
              "          await google.colab.output.renderOutput(dataTable, element);\n",
              "          const docLink = document.createElement('div');\n",
              "          docLink.innerHTML = docLinkHtml;\n",
              "          element.appendChild(docLink);\n",
              "        }\n",
              "      </script>\n",
              "    </div>\n",
              "  </div>\n",
              "  "
            ],
            "text/plain": [
              "                 id                                       comment_text\n",
              "0  00001cee341fdb12  Yo bitch Ja Rule is more succesful then you'll...\n",
              "1  0000247867823ef7  == From RfC == \\n\\n The title is fine as it is...\n",
              "2  00013b17ad220c46  \" \\n\\n == Sources == \\n\\n * Zawe Ashton on Lap...\n",
              "3  00017563c3f7919a  :If you have a look back at the source, the in...\n",
              "4  00017695ad8997eb          I don't anonymously edit articles at all."
            ]
          },
          "metadata": {},
          "execution_count": 10
        }
      ],
      "source": [
        "test.head()"
      ]
    },
    {
      "cell_type": "code",
      "execution_count": null,
      "metadata": {
        "colab": {
          "base_uri": "https://localhost:8080/"
        },
        "id": "5QE9flxkAIJ5",
        "outputId": "76b44432-a3a7-4bcd-d1a0-41c877f84cc7"
      },
      "outputs": [
        {
          "output_type": "stream",
          "name": "stdout",
          "text": [
            "train shape :  (159571, 8)\n",
            "test shape :  (153164, 2)\n"
          ]
        }
      ],
      "source": [
        "print('train shape : ', train.shape)\n",
        "print('test shape : ', test.shape)"
      ]
    },
    {
      "cell_type": "markdown",
      "metadata": {
        "id": "33PBhYsuA9vz"
      },
      "source": [
        "Histogram of comment lengths"
      ]
    },
    {
      "cell_type": "code",
      "execution_count": null,
      "metadata": {
        "colab": {
          "base_uri": "https://localhost:8080/",
          "height": 342
        },
        "id": "OzKzaIMiALCW",
        "outputId": "a675ee30-f4c9-4aa2-e706-5cbde5945d83"
      },
      "outputs": [
        {
          "output_type": "stream",
          "name": "stderr",
          "text": [
            "/usr/local/lib/python3.7/dist-packages/seaborn/distributions.py:2619: FutureWarning: `distplot` is a deprecated function and will be removed in a future version. Please adapt your code to use either `displot` (a figure-level function with similar flexibility) or `histplot` (an axes-level function for histograms).\n",
            "  warnings.warn(msg, FutureWarning)\n"
          ]
        },
        {
          "output_type": "display_data",
          "data": {
            "image/png": "[encoded data removed]",
            "text/plain": [
              "<Figure size 432x288 with 1 Axes>"
            ]
          },
          "metadata": {}
        }
      ],
      "source": [
        "sns.set(color_codes=True)\n",
        "sns.distplot(train.comment_text.str.len(), kde=False,bins=30)\n",
        "plt.show()"
      ]
    },
    {
      "cell_type": "markdown",
      "metadata": {
        "id": "9FYgypvhBIe8"
      },
      "source": [
        "Histogram of toxic comments"
      ]
    },
    {
      "cell_type": "code",
      "execution_count": null,
      "metadata": {
        "colab": {
          "base_uri": "https://localhost:8080/",
          "height": 365
        },
        "id": "QvloYzaaAUy3",
        "outputId": "307d4357-99d9-450c-9824-aa7c1ad9745b"
      },
      "outputs": [
        {
          "output_type": "execute_result",
          "data": {
            "text/plain": [
              "<matplotlib.axes._subplots.AxesSubplot at 0x7f08b2da0310>"
            ]
          },
          "metadata": {},
          "execution_count": 13
        },
        {
          "output_type": "display_data",
          "data": {
            "image/png": "[encoded data removed]",
            "text/plain": [
              "<Figure size 432x288 with 1 Axes>"
            ]
          },
          "metadata": {}
        }
      ],
      "source": [
        "# Subsetting labels from the training data\n",
        "train_labels = train[['toxic', 'severe_toxic',\n",
        "                      'obscene', 'threat', 'insult', 'identity_hate']]\n",
        "label_count = train_labels.sum()\n",
        "\n",
        "non_toxic_count = train.shape[0] - label_count.sum()\n",
        "\n",
        "label_count.plot(kind='bar', title='Labels Frequency', color='steelblue')"
      ]
    },
    {
      "cell_type": "code",
      "execution_count": null,
      "metadata": {
        "colab": {
          "base_uri": "https://localhost:8080/",
          "height": 365
        },
        "id": "GHASfCZkAbDF",
        "outputId": "6ca5023d-be8c-403b-f1b2-4cff133db8ea"
      },
      "outputs": [
        {
          "output_type": "execute_result",
          "data": {
            "text/plain": [
              "<matplotlib.axes._subplots.AxesSubplot at 0x7f08b2d39a90>"
            ]
          },
          "metadata": {},
          "execution_count": 14
        },
        {
          "output_type": "display_data",
          "data": {
            "image/png": "[encoded data removed]",
            "text/plain": [
              "<Figure size 432x288 with 1 Axes>"
            ]
          },
          "metadata": {}
        }
      ],
      "source": [
        "label_count.at['non_toxic'] = non_toxic_count\n",
        "label_count.plot(kind='bar', title='Labels Frequency', color='steelblue')"
      ]
    },
    {
      "cell_type": "code",
      "execution_count": null,
      "metadata": {
        "colab": {
          "base_uri": "https://localhost:8080/"
        },
        "id": "hBcxl-4dAd_0",
        "outputId": "21492c1e-53db-4b74-ed0a-0b4cda8f3f8e"
      },
      "outputs": [
        {
          "output_type": "stream",
          "name": "stdout",
          "text": [
            "non toxic comment : \n",
            " Explanation\n",
            "Why the edits made under my username Hardcore Metallica Fan were reverted? They weren't vandalisms, just closure on some GAs after I voted at New York Dolls FAC. And please don't remove the template from the talk page since I'm retired now.89.205.38.27\n",
            "insulting comment : \n",
            " COCKSUCKER BEFORE YOU PISS AROUND ON MY WORK\n"
          ]
        }
      ],
      "source": [
        "print('non toxic comment : \\n',train.comment_text[0])\n",
        "print('insulting comment : \\n',train[train.insult==1].comment_text[6])"
      ]
    },
    {
      "cell_type": "markdown",
      "metadata": {
        "id": "C_4MD9H4BND9"
      },
      "source": [
        "correlation matrix of toxic labels"
      ]
    },
    {
      "cell_type": "code",
      "execution_count": null,
      "metadata": {
        "colab": {
          "base_uri": "https://localhost:8080/",
          "height": 490
        },
        "id": "oVCKNDuIAvV7",
        "outputId": "f8917dc9-37e4-4418-ea3d-72f1beffca83"
      },
      "outputs": [
        {
          "output_type": "display_data",
          "data": {
            "image/png": "[encoded data removed]",
            "text/plain": [
              "<Figure size 720x576 with 2 Axes>"
            ]
          },
          "metadata": {}
        }
      ],
      "source": [
        "rowsums = train.iloc[:, 2:].sum(axis=1)\n",
        "temp = train.iloc[:, 2:]\n",
        "train_toxic = temp[rowsums>0]\n",
        "corr = train_toxic.corr()\n",
        "plt.figure(figsize=(10, 8))\n",
        "sns.heatmap(corr, annot=True, cmap=\"Blues\")\n",
        "plt.show()"
      ]
    },
    {
      "cell_type": "markdown",
      "metadata": {
        "id": "85flrZeABlug"
      },
      "source": [
        "One hot encoding of the dataset"
      ]
    },
    {
      "cell_type": "code",
      "execution_count": null,
      "metadata": {
        "id": "_nhH6bBJB-DO"
      },
      "outputs": [],
      "source": [
        "list_classes = [\"toxic\", \"severe_toxic\", \"obscene\", \"threat\", \"insult\", \"identity_hate\"]\n",
        "y_train = train[list_classes].values\n",
        "comments_train = train[\"comment_text\"]\n",
        "comments_test = test[\"comment_text\"]"
      ]
    },
    {
      "cell_type": "code",
      "execution_count": null,
      "metadata": {
        "id": "sV1-Ll0fA5XQ"
      },
      "outputs": [],
      "source": [
        "max_features = 20000\n",
        "tokenizer = Tokenizer(num_words=max_features)\n",
        "tokenizer.fit_on_texts(list(comments_train))\n",
        "tokenized_train = tokenizer.texts_to_sequences(comments_train)\n",
        "tokenized_test = tokenizer.texts_to_sequences(comments_test)"
      ]
    },
    {
      "cell_type": "code",
      "execution_count": null,
      "metadata": {
        "id": "RX88mSR9CdmG"
      },
      "outputs": [],
      "source": [
        "maxlen = 250\n",
        "padded_train = pad_sequences(tokenized_train, maxlen=maxlen)\n",
        "padded_test = pad_sequences(tokenized_test, maxlen=maxlen)"
      ]
    },
    {
      "cell_type": "markdown",
      "metadata": {
        "id": "9uhl2xxjGVic"
      },
      "source": [
        "Define model\n",
        "we use AUC, precision and recacll metrics to evaluate"
      ]
    },
    {
      "cell_type": "code",
      "execution_count": null,
      "metadata": {
        "id": "cLdVvIilD0OC"
      },
      "outputs": [],
      "source": [
        "embed_size = 128\n",
        "\n",
        "inp = layers.Input(shape=(maxlen, )) #maxlen=200 as defined earlier\n",
        "x   = layers.Embedding(max_features, embed_size)(inp)\n",
        "x   = layers.LSTM(60, return_sequences=True,name='lstm_layer')(x)\n",
        "x   = layers.GlobalMaxPool1D()(x)\n",
        "x   = layers.Dropout(0.1)(x)\n",
        "x   = layers.Dense(50, activation=\"relu\")(x)\n",
        "x   = layers.Dropout(0.1)(x)\n",
        "x   = layers.Dense(6, activation=\"sigmoid\")(x)\n",
        "\n",
        "\n",
        "embedded_model = Model(inputs=inp, outputs=x)\n",
        "embedded_model.compile(loss='binary_crossentropy',\n",
        "                  optimizer='adam',\n",
        "                  metrics=[Precision(),\n",
        "                           Recall(),\n",
        "                           AUC()])\n"
      ]
    },
    {
      "cell_type": "markdown",
      "metadata": {
        "id": "gxlCujv3KA0U"
      },
      "source": [
        "Training"
      ]
    },
    {
      "cell_type": "code",
      "execution_count": null,
      "metadata": {
        "colab": {
          "base_uri": "https://localhost:8080/"
        },
        "id": "bHd7-o7pJ_MM",
        "outputId": "2502b3b8-de17-4bf3-d6d9-127ce89b93e6"
      },
      "outputs": [
        {
          "output_type": "stream",
          "name": "stdout",
          "text": [
            "Epoch 1/2\n",
            "4488/4488 [==============================] - 76s 15ms/step - loss: 0.0749 - precision_1: 0.7690 - recall: 0.5000 - auc: 0.9514 - val_loss: 0.0499 - val_precision_1: 0.8251 - val_recall: 0.6477 - val_auc: 0.9806\n",
            "Epoch 2/2\n",
            "4488/4488 [==============================] - 68s 15ms/step - loss: 0.0458 - precision_1: 0.8253 - recall: 0.6820 - auc: 0.9833 - val_loss: 0.0481 - val_precision_1: 0.8481 - val_recall: 0.6371 - val_auc: 0.9809\n"
          ]
        }
      ],
      "source": [
        "batch_size = 32\n",
        "epochs = 2\n",
        "history = embedded_model.fit(padded_train,\n",
        "                             y_train,\n",
        "                             batch_size=batch_size,\n",
        "                             epochs=epochs,\n",
        "                             validation_split=0.1)"
      ]
    },
    {
      "cell_type": "code",
      "execution_count": null,
      "metadata": {
        "id": "eKj1jJWUMVsR"
      },
      "outputs": [],
      "source": [
        "plt.plot(history.history['auc'])\n",
        "plt.plot(history.history['val_auc'])\n",
        "plt.title('model auc')\n",
        "plt.ylabel('auc')\n",
        "plt.xlabel('epoch')\n",
        "plt.legend(['train', 'test'], loc='upper left')\n",
        "plt.show()"
      ]
    }
  ],
  "metadata": {
    "accelerator": "GPU",
    "colab": {
      "collapsed_sections": [],
      "name": "LSTM.ipynb",
      "provenance": []
    },
    "kernelspec": {
      "display_name": "Python 3",
      "name": "python3"
    },
    "language_info": {
      "name": "python"
    }
  },
  "nbformat": 4,
  "nbformat_minor": 0
}